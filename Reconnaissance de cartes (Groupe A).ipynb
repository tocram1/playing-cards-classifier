{
 "cells": [
  {
   "cell_type": "markdown",
   "metadata": {},
   "source": [
    "# Reconnaissance des cartes\n",
    "\n",
    "Le but est de créer un modèle capable de classifier une carte du jeu quand on la charge dans l'algorithme.\n",
    "\n",
    "##### Notebook écrit par Théo Cramez, M1 CCM.\n",
    "\n",
    "---\n",
    "\n",
    "## Cadre\n",
    "\n",
    "Dans mes hypothèses, je vais chercher à identifier et classifier une carte du jeu de cartes français (ou le jeu de 52 cartes), en reconnaissant donc leur enseigne (pic, as, carreau, trèfle) et leur \"valeur\" (as, 2, 3, 4, 5, 6, 7, 8, 9, 10, valet, dame, roi). On reconnaîtra aussi quelques cartes joker.\n",
    "Toute carte que mes hypothèses n'arrivent pas à classifier sera également désignée comme carte \"joker\"."
   ]
  },
  {
   "cell_type": "markdown",
   "metadata": {},
   "source": [
    "## Hypothèse n°1\n",
    "\n",
    "- Découper le coin supérieur gauche de la carte (X de 1% à 18% de la largeur, Y de 1% à 30% de la hauteur. Ces valeurs sont choisies arbitrairement en fonction du découpage qui me semble optimal en fonction des dimensions/proportions différentes des cartes du jeu)\n",
    "- Récupérer les 2 couleurs dominantes de l'image découpée pour savoir si l'une des deux est le noir ou le rouge (avec une marge d'erreur au cas où la couleur de la carte varie de celle du lot initial, si c'est une photo d'une carte par exemple).\n",
    "    > Voir [ce lien](https://stackoverflow.com/a/52024748/15478987) pour voir une librairie qui pourrait me servir pour trouver les couleurs dominantes d'une image.\n",
    "- Faire passer un algo d'OCR et prendre les caractères connus dans ce qu'il a sorti pour le valeur ou la lettre de la carte (ou \"JOKER\" (faire une recherche \"approximative\" car l'OCR pourrait reconnaître des caractères inexistants dans l'image, notamment à cause du fait que le découpage puisse laisser des morceaux de l'illustration de la carte sur les contours).\n",
    "    > Voir [ce lien](https://www.jaided.ai/easyocr/) pour voir une librairie qui pourrait me servir pour faire de l'OCR.\n",
    "\n",
    "Dans le code suivant, je charge puis découpe l'image de la carte."
   ]
  },
  {
   "cell_type": "code",
   "execution_count": 22,
   "metadata": {
    "scrolled": true
   },
   "outputs": [
    {
     "data": {
      "text/plain": [
       "<matplotlib.image.AxesImage at 0x7f77cc8dfc70>"
      ]
     },
     "execution_count": 22,
     "metadata": {},
     "output_type": "execute_result"
    },
    {
     "data": {
      "image/png": "[encoded data removed]",
      "text/plain": [
       "<Figure size 432x288 with 1 Axes>"
      ]
     },
     "metadata": {
      "needs_background": "light"
     },
     "output_type": "display_data"
    }
   ],
   "source": [
    "import os\n",
    "from matplotlib.pyplot import imshow\n",
    "import numpy as np\n",
    "from PIL import Image\n",
    "%matplotlib inline\n",
    "import cv2\n",
    "\n",
    "directory = \"cartes/\"\n",
    "\n",
    "carte_pleine = Image.open(directory + \"jack_of_clubs2.png\")\n",
    "\n",
    "def découpage(carte):\n",
    "    return carte.crop((0.01 * carte.width, 0.01 * carte.height, 0.18 * carte.width, 0.3 * carte.height))\n",
    "\n",
    "carte = découpage(carte_pleine)\n",
    "\n",
    "imshow(np.asarray(carte))"
   ]
  },
  {
   "cell_type": "markdown",
   "metadata": {},
   "source": [
    "Essayons maintenant d'en extraire deux couleurs dominantes de l'image :"
   ]
  },
  {
   "cell_type": "code",
   "execution_count": 2,
   "metadata": {},
   "outputs": [
    {
     "name": "stdout",
     "output_type": "stream",
     "text": [
      "r\n"
     ]
    }
   ],
   "source": [
    "# fonction sympa pour afficher du texte en couleur\n",
    "def colored(r, g, b, text):\n",
    "    return \"\\033[38;2;{};{};{}m{} \\033[38;2;255;255;255m\".format(r, g, b, text)\n",
    "\n",
    "def get_color(carte):\n",
    "    temp_path = \"cropped_card.png\"\n",
    "    carte.save(temp_path)\n",
    "    from colorthief import ColorThief # on importe la libraire ColorThief\n",
    "    color_thief = ColorThief(temp_path) # on charge l'image dans un nouvel objet\n",
    "    \n",
    "    # on demande d'extraire une palette de 2 couleurs dominantes, même si à cause de\n",
    "    # ce qui semble être un bug de la librairie elle renvoie trois couleurs...\n",
    "    couleurs = color_thief.get_palette(color_count=2, quality=10)\n",
    "    \n",
    "    if ((couleurs[0][0] > couleurs[0][1]) & (couleurs[0][0] > couleurs[0][2])):\n",
    "        return 'r'\n",
    "    return 'n'\n",
    "    \n",
    "print(get_color(carte))"
   ]
  },
  {
   "cell_type": "markdown",
   "metadata": {},
   "source": [
    "Maintenant que la couleur a été reconnue, nous pouvons lancer l'algorithme de reconnaissance optique de caractères (OCR) sur la section supérieure gauche de la carte."
   ]
  },
  {
   "cell_type": "code",
   "execution_count": 3,
   "metadata": {},
   "outputs": [
    {
     "name": "stderr",
     "output_type": "stream",
     "text": [
      "Using CPU. Note: This module is much faster with a GPU.\n"
     ]
    },
    {
     "name": "stdout",
     "output_type": "stream",
     "text": [
      "['K']\n"
     ]
    }
   ],
   "source": [
    "import easyocr\n",
    "def recognize_characters(chemin_image):\n",
    "    reader = easyocr.Reader(['en'], recog_network='english_g2', gpu=False)\n",
    "    result = reader.readtext(image=directory+chemin_image, paragraph=\"False\", detail=0)\n",
    "    return result\n",
    "\n",
    "print(recognize_characters(\"king_of_hearts2.png\"))"
   ]
  },
  {
   "cell_type": "markdown",
   "metadata": {},
   "source": [
    "Nous avons donc désormais la possibilité de reconnaître la couleur et la valeur d'une carte. Faisons une fonction capable d'effectuer tous les traitements à la suite pour pouvoir le faire tourner sur toutes les cartes du jeu et nous calculer un pourcentage de fiabilité de notre hypothèse."
   ]
  },
  {
   "cell_type": "code",
   "execution_count": 4,
   "metadata": {},
   "outputs": [
    {
     "name": "stderr",
     "output_type": "stream",
     "text": [
      "Using CPU. Note: This module is much faster with a GPU.\n"
     ]
    },
    {
     "name": "stdout",
     "output_type": "stream",
     "text": [
      "traitement de 10_of_clubs.png\n"
     ]
    },
    {
     "name": "stderr",
     "output_type": "stream",
     "text": [
      "Using CPU. Note: This module is much faster with a GPU.\n"
     ]
    },
    {
     "name": "stdout",
     "output_type": "stream",
     "text": [
      "bon numéro\n",
      "couleur n, numéro 10. score 0.75\n",
      "traitement de 10_of_diamonds.png\n"
     ]
    },
    {
     "name": "stderr",
     "output_type": "stream",
     "text": [
      "Using CPU. Note: This module is much faster with a GPU.\n"
     ]
    },
    {
     "name": "stdout",
     "output_type": "stream",
     "text": [
      "bon numéro\n",
      "couleur r, numéro 10. score 0.75\n",
      "traitement de 10_of_hearts.png\n"
     ]
    },
    {
     "name": "stderr",
     "output_type": "stream",
     "text": [
      "Using CPU. Note: This module is much faster with a GPU.\n"
     ]
    },
    {
     "name": "stdout",
     "output_type": "stream",
     "text": [
      "bon numéro\n",
      "couleur r, numéro 10. score 0.75\n",
      "traitement de 10_of_spades.png\n"
     ]
    },
    {
     "name": "stderr",
     "output_type": "stream",
     "text": [
      "Using CPU. Note: This module is much faster with a GPU.\n"
     ]
    },
    {
     "name": "stdout",
     "output_type": "stream",
     "text": [
      "bon numéro\n",
      "couleur n, numéro 10. score 0.75\n",
      "traitement de 2_of_clubs.png\n"
     ]
    },
    {
     "name": "stderr",
     "output_type": "stream",
     "text": [
      "Using CPU. Note: This module is much faster with a GPU.\n"
     ]
    },
    {
     "name": "stdout",
     "output_type": "stream",
     "text": [
      "bon numéro\n",
      "couleur n, numéro 2. score 0.75\n",
      "traitement de 2_of_diamonds.png\n"
     ]
    },
    {
     "name": "stderr",
     "output_type": "stream",
     "text": [
      "Using CPU. Note: This module is much faster with a GPU.\n"
     ]
    },
    {
     "name": "stdout",
     "output_type": "stream",
     "text": [
      "bon numéro\n",
      "couleur r, numéro 2. score 0.75\n",
      "traitement de 2_of_hearts.png\n"
     ]
    },
    {
     "name": "stderr",
     "output_type": "stream",
     "text": [
      "Using CPU. Note: This module is much faster with a GPU.\n"
     ]
    },
    {
     "name": "stdout",
     "output_type": "stream",
     "text": [
      "bon numéro\n",
      "couleur r, numéro 2. score 0.75\n",
      "traitement de 2_of_spades.png\n"
     ]
    },
    {
     "name": "stderr",
     "output_type": "stream",
     "text": [
      "Using CPU. Note: This module is much faster with a GPU.\n"
     ]
    },
    {
     "name": "stdout",
     "output_type": "stream",
     "text": [
      "bon numéro\n",
      "couleur n, numéro 2. score 0.75\n",
      "traitement de 3_of_clubs.png\n"
     ]
    },
    {
     "name": "stderr",
     "output_type": "stream",
     "text": [
      "Using CPU. Note: This module is much faster with a GPU.\n"
     ]
    },
    {
     "name": "stdout",
     "output_type": "stream",
     "text": [
      "bon numéro\n",
      "couleur n, numéro 3. score 0.75\n",
      "traitement de 3_of_diamonds.png\n"
     ]
    },
    {
     "name": "stderr",
     "output_type": "stream",
     "text": [
      "Using CPU. Note: This module is much faster with a GPU.\n"
     ]
    },
    {
     "name": "stdout",
     "output_type": "stream",
     "text": [
      "bon numéro\n",
      "couleur r, numéro 3. score 0.75\n",
      "traitement de 3_of_hearts.png\n"
     ]
    },
    {
     "name": "stderr",
     "output_type": "stream",
     "text": [
      "Using CPU. Note: This module is much faster with a GPU.\n"
     ]
    },
    {
     "name": "stdout",
     "output_type": "stream",
     "text": [
      "bon numéro\n",
      "couleur r, numéro 3. score 0.75\n",
      "traitement de 3_of_spades.png\n"
     ]
    },
    {
     "name": "stderr",
     "output_type": "stream",
     "text": [
      "Using CPU. Note: This module is much faster with a GPU.\n"
     ]
    },
    {
     "name": "stdout",
     "output_type": "stream",
     "text": [
      "bon numéro\n",
      "couleur n, numéro 3. score 0.75\n",
      "traitement de 4_of_clubs.png\n"
     ]
    },
    {
     "name": "stderr",
     "output_type": "stream",
     "text": [
      "Using CPU. Note: This module is much faster with a GPU.\n"
     ]
    },
    {
     "name": "stdout",
     "output_type": "stream",
     "text": [
      "couleur n, numéro 4 36. score 0.25\n",
      "traitement de 4_of_diamonds.png\n"
     ]
    },
    {
     "name": "stderr",
     "output_type": "stream",
     "text": [
      "Using CPU. Note: This module is much faster with a GPU.\n"
     ]
    },
    {
     "name": "stdout",
     "output_type": "stream",
     "text": [
      "bon numéro\n",
      "couleur r, numéro 4. score 0.75\n",
      "traitement de 4_of_hearts.png\n"
     ]
    },
    {
     "name": "stderr",
     "output_type": "stream",
     "text": [
      "Using CPU. Note: This module is much faster with a GPU.\n"
     ]
    },
    {
     "name": "stdout",
     "output_type": "stream",
     "text": [
      "bon numéro\n",
      "couleur r, numéro 4. score 0.75\n",
      "traitement de 4_of_spades.png\n"
     ]
    },
    {
     "name": "stderr",
     "output_type": "stream",
     "text": [
      "Using CPU. Note: This module is much faster with a GPU.\n"
     ]
    },
    {
     "name": "stdout",
     "output_type": "stream",
     "text": [
      "bon numéro\n",
      "couleur n, numéro 4. score 0.75\n",
      "traitement de 5_of_clubs.png\n"
     ]
    },
    {
     "name": "stderr",
     "output_type": "stream",
     "text": [
      "Using CPU. Note: This module is much faster with a GPU.\n"
     ]
    },
    {
     "name": "stdout",
     "output_type": "stream",
     "text": [
      "couleur n, numéro 5 Re. score 0.25\n",
      "traitement de 5_of_diamonds.png\n"
     ]
    },
    {
     "name": "stderr",
     "output_type": "stream",
     "text": [
      "Using CPU. Note: This module is much faster with a GPU.\n"
     ]
    },
    {
     "name": "stdout",
     "output_type": "stream",
     "text": [
      "bon numéro\n",
      "couleur r, numéro 5. score 0.75\n",
      "traitement de 5_of_hearts.png\n"
     ]
    },
    {
     "name": "stderr",
     "output_type": "stream",
     "text": [
      "Using CPU. Note: This module is much faster with a GPU.\n"
     ]
    },
    {
     "name": "stdout",
     "output_type": "stream",
     "text": [
      "bon numéro\n",
      "couleur r, numéro 5. score 0.75\n",
      "traitement de 5_of_spades.png\n"
     ]
    },
    {
     "name": "stderr",
     "output_type": "stream",
     "text": [
      "Using CPU. Note: This module is much faster with a GPU.\n"
     ]
    },
    {
     "name": "stdout",
     "output_type": "stream",
     "text": [
      "bon numéro\n",
      "couleur n, numéro 5. score 0.75\n",
      "traitement de 6_of_clubs.png\n"
     ]
    },
    {
     "name": "stderr",
     "output_type": "stream",
     "text": [
      "Using CPU. Note: This module is much faster with a GPU.\n"
     ]
    },
    {
     "name": "stdout",
     "output_type": "stream",
     "text": [
      "couleur n, numéro 88 8c e. score 0.25\n",
      "traitement de 6_of_diamonds.png\n"
     ]
    },
    {
     "name": "stderr",
     "output_type": "stream",
     "text": [
      "Using CPU. Note: This module is much faster with a GPU.\n"
     ]
    },
    {
     "name": "stdout",
     "output_type": "stream",
     "text": [
      "couleur r, numéro NULL. score 0.25\n",
      "traitement de 6_of_hearts.png\n"
     ]
    },
    {
     "name": "stderr",
     "output_type": "stream",
     "text": [
      "Using CPU. Note: This module is much faster with a GPU.\n"
     ]
    },
    {
     "name": "stdout",
     "output_type": "stream",
     "text": [
      "couleur r, numéro Aa. score 0.25\n",
      "traitement de 6_of_spades.png\n"
     ]
    },
    {
     "name": "stderr",
     "output_type": "stream",
     "text": [
      "Using CPU. Note: This module is much faster with a GPU.\n"
     ]
    },
    {
     "name": "stdout",
     "output_type": "stream",
     "text": [
      "couleur n, numéro NULL. score 0.25\n",
      "traitement de 7_of_clubs.png\n"
     ]
    },
    {
     "name": "stderr",
     "output_type": "stream",
     "text": [
      "Using CPU. Note: This module is much faster with a GPU.\n"
     ]
    },
    {
     "name": "stdout",
     "output_type": "stream",
     "text": [
      "couleur n, numéro 6. score 0.25\n",
      "traitement de 7_of_diamonds.png\n"
     ]
    },
    {
     "name": "stderr",
     "output_type": "stream",
     "text": [
      "Using CPU. Note: This module is much faster with a GPU.\n"
     ]
    },
    {
     "name": "stdout",
     "output_type": "stream",
     "text": [
      "couleur r, numéro NULL. score 0.25\n",
      "traitement de 7_of_hearts.png\n"
     ]
    },
    {
     "name": "stderr",
     "output_type": "stream",
     "text": [
      "Using CPU. Note: This module is much faster with a GPU.\n"
     ]
    },
    {
     "name": "stdout",
     "output_type": "stream",
     "text": [
      "couleur r, numéro ^. score 0.25\n",
      "traitement de 7_of_spades.png\n"
     ]
    },
    {
     "name": "stderr",
     "output_type": "stream",
     "text": [
      "Using CPU. Note: This module is much faster with a GPU.\n"
     ]
    },
    {
     "name": "stdout",
     "output_type": "stream",
     "text": [
      "couleur n, numéro NULL. score 0.25\n",
      "traitement de 8_of_clubs.png\n"
     ]
    },
    {
     "name": "stderr",
     "output_type": "stream",
     "text": [
      "Using CPU. Note: This module is much faster with a GPU.\n"
     ]
    },
    {
     "name": "stdout",
     "output_type": "stream",
     "text": [
      "couleur n, numéro 6. score 0.25\n",
      "traitement de 8_of_diamonds.png\n"
     ]
    },
    {
     "name": "stderr",
     "output_type": "stream",
     "text": [
      "Using CPU. Note: This module is much faster with a GPU.\n"
     ]
    },
    {
     "name": "stdout",
     "output_type": "stream",
     "text": [
      "couleur r, numéro NULL. score 0.25\n",
      "traitement de 8_of_hearts.png\n"
     ]
    },
    {
     "name": "stderr",
     "output_type": "stream",
     "text": [
      "Using CPU. Note: This module is much faster with a GPU.\n"
     ]
    },
    {
     "name": "stdout",
     "output_type": "stream",
     "text": [
      "couleur r, numéro X 8. score 0.25\n",
      "traitement de 8_of_spades.png\n"
     ]
    },
    {
     "name": "stderr",
     "output_type": "stream",
     "text": [
      "Using CPU. Note: This module is much faster with a GPU.\n"
     ]
    },
    {
     "name": "stdout",
     "output_type": "stream",
     "text": [
      "bon numéro\n",
      "couleur n, numéro 8. score 0.75\n",
      "traitement de 9_of_clubs.png\n"
     ]
    },
    {
     "name": "stderr",
     "output_type": "stream",
     "text": [
      "Using CPU. Note: This module is much faster with a GPU.\n"
     ]
    },
    {
     "name": "stdout",
     "output_type": "stream",
     "text": [
      "couleur n, numéro 0 ~. score 0.25\n",
      "traitement de 9_of_diamonds.png\n"
     ]
    },
    {
     "name": "stderr",
     "output_type": "stream",
     "text": [
      "Using CPU. Note: This module is much faster with a GPU.\n"
     ]
    },
    {
     "name": "stdout",
     "output_type": "stream",
     "text": [
      "bon numéro\n",
      "couleur r, numéro 9. score 0.75\n",
      "traitement de 9_of_hearts.png\n"
     ]
    },
    {
     "name": "stderr",
     "output_type": "stream",
     "text": [
      "Using CPU. Note: This module is much faster with a GPU.\n"
     ]
    },
    {
     "name": "stdout",
     "output_type": "stream",
     "text": [
      "couleur r, numéro XX. score 0.25\n",
      "traitement de 9_of_spades.png\n"
     ]
    },
    {
     "name": "stderr",
     "output_type": "stream",
     "text": [
      "Using CPU. Note: This module is much faster with a GPU.\n"
     ]
    },
    {
     "name": "stdout",
     "output_type": "stream",
     "text": [
      "bon numéro\n",
      "couleur n, numéro 9. score 0.75\n",
      "traitement de ace_of_clubs.png\n"
     ]
    },
    {
     "name": "stderr",
     "output_type": "stream",
     "text": [
      "Using CPU. Note: This module is much faster with a GPU.\n"
     ]
    },
    {
     "name": "stdout",
     "output_type": "stream",
     "text": [
      "bon numéro\n",
      "couleur n, numéro A. score 0.75\n",
      "traitement de ace_of_diamonds.png\n"
     ]
    },
    {
     "name": "stderr",
     "output_type": "stream",
     "text": [
      "Using CPU. Note: This module is much faster with a GPU.\n"
     ]
    },
    {
     "name": "stdout",
     "output_type": "stream",
     "text": [
      "bon numéro\n",
      "couleur r, numéro A. score 0.75\n",
      "traitement de ace_of_hearts.png\n"
     ]
    },
    {
     "name": "stderr",
     "output_type": "stream",
     "text": [
      "Using CPU. Note: This module is much faster with a GPU.\n"
     ]
    },
    {
     "name": "stdout",
     "output_type": "stream",
     "text": [
      "bon numéro\n",
      "couleur r, numéro A. score 0.75\n",
      "traitement de ace_of_spades.png\n"
     ]
    },
    {
     "name": "stderr",
     "output_type": "stream",
     "text": [
      "Using CPU. Note: This module is much faster with a GPU.\n"
     ]
    },
    {
     "name": "stdout",
     "output_type": "stream",
     "text": [
      "bon numéro\n",
      "couleur n, numéro A. score 0.75\n",
      "traitement de ace_of_spades2.png\n"
     ]
    },
    {
     "name": "stderr",
     "output_type": "stream",
     "text": [
      "Using CPU. Note: This module is much faster with a GPU.\n"
     ]
    },
    {
     "name": "stdout",
     "output_type": "stream",
     "text": [
      "bon numéro\n",
      "couleur n, numéro A. score 0.75\n",
      "traitement de black_joker.png\n"
     ]
    },
    {
     "name": "stderr",
     "output_type": "stream",
     "text": [
      "Using CPU. Note: This module is much faster with a GPU.\n"
     ]
    },
    {
     "name": "stdout",
     "output_type": "stream",
     "text": [
      "couleur n, numéro 1 38 Y 3. score 0\n",
      "traitement de jack_of_clubs.png\n"
     ]
    },
    {
     "name": "stderr",
     "output_type": "stream",
     "text": [
      "Using CPU. Note: This module is much faster with a GPU.\n"
     ]
    },
    {
     "name": "stdout",
     "output_type": "stream",
     "text": [
      "couleur n, numéro NULL. score 0.25\n",
      "traitement de jack_of_clubs2.png\n"
     ]
    },
    {
     "name": "stderr",
     "output_type": "stream",
     "text": [
      "Using CPU. Note: This module is much faster with a GPU.\n"
     ]
    },
    {
     "name": "stdout",
     "output_type": "stream",
     "text": [
      "couleur n, numéro :. score 0.25\n",
      "traitement de jack_of_diamonds.png\n"
     ]
    },
    {
     "name": "stderr",
     "output_type": "stream",
     "text": [
      "Using CPU. Note: This module is much faster with a GPU.\n"
     ]
    },
    {
     "name": "stdout",
     "output_type": "stream",
     "text": [
      "couleur r, numéro NULL. score 0.25\n",
      "traitement de jack_of_diamonds2.png\n"
     ]
    },
    {
     "name": "stderr",
     "output_type": "stream",
     "text": [
      "Using CPU. Note: This module is much faster with a GPU.\n"
     ]
    },
    {
     "name": "stdout",
     "output_type": "stream",
     "text": [
      "couleur r, numéro NULL. score 0.25\n",
      "traitement de jack_of_hearts.png\n"
     ]
    },
    {
     "name": "stderr",
     "output_type": "stream",
     "text": [
      "Using CPU. Note: This module is much faster with a GPU.\n"
     ]
    },
    {
     "name": "stdout",
     "output_type": "stream",
     "text": [
      "couleur r, numéro NULL. score 0.25\n",
      "traitement de jack_of_hearts2.png\n"
     ]
    },
    {
     "name": "stderr",
     "output_type": "stream",
     "text": [
      "Using CPU. Note: This module is much faster with a GPU.\n"
     ]
    },
    {
     "name": "stdout",
     "output_type": "stream",
     "text": [
      "couleur r, numéro NULL. score 0.25\n",
      "traitement de jack_of_spades.png\n"
     ]
    },
    {
     "name": "stderr",
     "output_type": "stream",
     "text": [
      "Using CPU. Note: This module is much faster with a GPU.\n"
     ]
    },
    {
     "name": "stdout",
     "output_type": "stream",
     "text": [
      "couleur n, numéro NULL. score 0.25\n",
      "traitement de jack_of_spades2.png\n"
     ]
    },
    {
     "name": "stderr",
     "output_type": "stream",
     "text": [
      "Using CPU. Note: This module is much faster with a GPU.\n"
     ]
    },
    {
     "name": "stdout",
     "output_type": "stream",
     "text": [
      "couleur n, numéro NULL. score 0.25\n",
      "traitement de king_of_clubs.png\n"
     ]
    },
    {
     "name": "stderr",
     "output_type": "stream",
     "text": [
      "Using CPU. Note: This module is much faster with a GPU.\n"
     ]
    },
    {
     "name": "stdout",
     "output_type": "stream",
     "text": [
      "bon numéro\n",
      "couleur n, numéro K. score 0.75\n",
      "traitement de king_of_clubs2.png\n"
     ]
    },
    {
     "name": "stderr",
     "output_type": "stream",
     "text": [
      "Using CPU. Note: This module is much faster with a GPU.\n"
     ]
    },
    {
     "name": "stdout",
     "output_type": "stream",
     "text": [
      "couleur n, numéro +. score 0.25\n",
      "traitement de king_of_diamonds.png\n"
     ]
    },
    {
     "name": "stderr",
     "output_type": "stream",
     "text": [
      "Using CPU. Note: This module is much faster with a GPU.\n"
     ]
    },
    {
     "name": "stdout",
     "output_type": "stream",
     "text": [
      "bon numéro\n",
      "couleur r, numéro K. score 0.75\n",
      "traitement de king_of_diamonds2.png\n"
     ]
    },
    {
     "name": "stderr",
     "output_type": "stream",
     "text": [
      "Using CPU. Note: This module is much faster with a GPU.\n"
     ]
    },
    {
     "name": "stdout",
     "output_type": "stream",
     "text": [
      "couleur r, numéro 3N 2. score 0.25\n",
      "traitement de king_of_hearts.png\n"
     ]
    },
    {
     "name": "stderr",
     "output_type": "stream",
     "text": [
      "Using CPU. Note: This module is much faster with a GPU.\n"
     ]
    },
    {
     "name": "stdout",
     "output_type": "stream",
     "text": [
      "bon numéro\n",
      "couleur r, numéro K. score 0.75\n",
      "traitement de king_of_hearts2.png\n"
     ]
    },
    {
     "name": "stderr",
     "output_type": "stream",
     "text": [
      "Using CPU. Note: This module is much faster with a GPU.\n"
     ]
    },
    {
     "name": "stdout",
     "output_type": "stream",
     "text": [
      "bon numéro\n",
      "couleur r, numéro K. score 0.75\n",
      "traitement de king_of_spades.png\n"
     ]
    },
    {
     "name": "stderr",
     "output_type": "stream",
     "text": [
      "Using CPU. Note: This module is much faster with a GPU.\n"
     ]
    },
    {
     "name": "stdout",
     "output_type": "stream",
     "text": [
      "bon numéro\n",
      "couleur n, numéro K. score 0.75\n",
      "traitement de king_of_spades2.png\n"
     ]
    },
    {
     "name": "stderr",
     "output_type": "stream",
     "text": [
      "Using CPU. Note: This module is much faster with a GPU.\n"
     ]
    },
    {
     "name": "stdout",
     "output_type": "stream",
     "text": [
      "couleur n, numéro NULL. score 0.25\n",
      "traitement de queen_of_clubs.png\n"
     ]
    },
    {
     "name": "stderr",
     "output_type": "stream",
     "text": [
      "Using CPU. Note: This module is much faster with a GPU.\n"
     ]
    },
    {
     "name": "stdout",
     "output_type": "stream",
     "text": [
      "bon numéro\n",
      "couleur n, numéro Q. score 0.75\n",
      "traitement de queen_of_clubs2.png\n"
     ]
    },
    {
     "name": "stderr",
     "output_type": "stream",
     "text": [
      "Using CPU. Note: This module is much faster with a GPU.\n"
     ]
    },
    {
     "name": "stdout",
     "output_type": "stream",
     "text": [
      "couleur n, numéro NULL. score 0.25\n",
      "traitement de queen_of_diamonds.png\n"
     ]
    },
    {
     "name": "stderr",
     "output_type": "stream",
     "text": [
      "Using CPU. Note: This module is much faster with a GPU.\n"
     ]
    },
    {
     "name": "stdout",
     "output_type": "stream",
     "text": [
      "couleur r, numéro NULL. score 0.25\n",
      "traitement de queen_of_diamonds2.png\n"
     ]
    },
    {
     "name": "stderr",
     "output_type": "stream",
     "text": [
      "Using CPU. Note: This module is much faster with a GPU.\n"
     ]
    },
    {
     "name": "stdout",
     "output_type": "stream",
     "text": [
      "couleur r, numéro NULL. score 0.25\n",
      "traitement de queen_of_hearts.png\n"
     ]
    },
    {
     "name": "stderr",
     "output_type": "stream",
     "text": [
      "Using CPU. Note: This module is much faster with a GPU.\n"
     ]
    },
    {
     "name": "stdout",
     "output_type": "stream",
     "text": [
      "couleur r, numéro NULL. score 0.25\n",
      "traitement de queen_of_hearts2.png\n"
     ]
    },
    {
     "name": "stderr",
     "output_type": "stream",
     "text": [
      "Using CPU. Note: This module is much faster with a GPU.\n"
     ]
    },
    {
     "name": "stdout",
     "output_type": "stream",
     "text": [
      "couleur r, numéro 8. score 0.25\n",
      "traitement de queen_of_spades.png\n"
     ]
    },
    {
     "name": "stderr",
     "output_type": "stream",
     "text": [
      "Using CPU. Note: This module is much faster with a GPU.\n"
     ]
    },
    {
     "name": "stdout",
     "output_type": "stream",
     "text": [
      "bon numéro\n",
      "couleur n, numéro Q. score 0.75\n",
      "traitement de queen_of_spades2.png\n"
     ]
    },
    {
     "name": "stderr",
     "output_type": "stream",
     "text": [
      "Using CPU. Note: This module is much faster with a GPU.\n"
     ]
    },
    {
     "name": "stdout",
     "output_type": "stream",
     "text": [
      "couleur n, numéro 1. score 0.25\n",
      "traitement de red_joker.png\n",
      "couleur n, numéro 8 30. score 0\n",
      "48.88059701492538% de précision (score de 32.75, 67 cartes testées.)\n"
     ]
    }
   ],
   "source": [
    "def recognize_card(card_filename):\n",
    "    print(\"traitement de \" + card_filename)\n",
    "    carte_pleine = Image.open(directory+card_filename)\n",
    "    carte = découpage(carte_pleine)\n",
    "    couleur = get_color(carte)\n",
    "    valeur = recognize_characters(card_filename)\n",
    "    \n",
    "    #imshow(np.asarray(carte))\n",
    "    \n",
    "    valeurs = {\n",
    "        \"A\": \"ace\",\n",
    "        \"2\": \"2\",\n",
    "        \"3\": \"3\",\n",
    "        \"4\": \"4\",\n",
    "        \"5\": \"5\",\n",
    "        \"6\": \"6\",\n",
    "        \"7\": \"7\",\n",
    "        \"8\": \"8\",\n",
    "        \"9\": \"9\",\n",
    "        \"10\": \"10\",\n",
    "        \"J\": \"jack\",\n",
    "        \"K\": \"king\",\n",
    "        \"Q\": \"queen\",\n",
    "    }\n",
    "    \n",
    "    enseignes = {\n",
    "        \"n\": [\"clubs\", \"spades\"],\n",
    "        \"r\": [\"diamonds\", \"hearts\"]\n",
    "    }\n",
    "    \n",
    "    score = 0\n",
    "    \n",
    "    try:\n",
    "        if (valeurs[valeur[0].upper()] in card_filename) | (\"joker\" in card_filename):\n",
    "            print(\"bonne valeur\")\n",
    "            # vu que la valeur ne représente que la moitié de la \"donnée\", on ne mettra que 50% de l'identification de la carte\n",
    "            score+=0.5\n",
    "    except:\n",
    "        pass\n",
    "    \n",
    "    for enseigne in enseignes[couleur]:\n",
    "        if enseigne in card_filename:\n",
    "            #print(\"bonne couleur\")\n",
    "            # vu que la couleur donne 2 enseigne, on ne mettra que 25% de l'identification de la carte dans la couleur\n",
    "            score+=0.25\n",
    "    \n",
    "    #print(couleur)\n",
    "    #print(valeur)\n",
    "    num_to_display = \"\"\n",
    "    try:\n",
    "        num_to_display = valeur[0]\n",
    "    except:\n",
    "        num_to_display = \"NULL\"\n",
    "    print(\"couleur \" + couleur + \", valeur \" + num_to_display + \". score \" + str(score))\n",
    "    return score\n",
    "\n",
    "directory = r'cartes/'\n",
    "n = 0\n",
    "total_score = 0\n",
    "for filename in os.listdir(directory):\n",
    "    if filename.endswith(\".png\"):\n",
    "        n += 1\n",
    "        total_score += recognize_card(filename)\n",
    "    else:\n",
    "        continue\n",
    "print(str((total_score/n)*100)+\"% de précision (score de \" + str(total_score) + \", \" + str(n) + \" cartes testées.)\")\n"
   ]
  },
  {
   "cell_type": "markdown",
   "metadata": {},
   "source": [
    "## Hypothèse n°2\n",
    "\n",
    "### Une autre hypothèse qui n'utilise aucun module et qui supporte les rotations (90°, 180° et 270°) ainsi que le redimensionnement de l'image :\n",
    "\n",
    "Pour initialiser notre méthode de classification, il nous faut passer sur toutes les images du fichier des cartes pour en enregistrer les informations. Pour chaque carte :\n",
    "- découper la section en haut à gauche de toutes les cartes (X de 1% à 18% de la largeur, Y de 1% à 30% de la hauteur. Ces valeurs sont choisies arbitrairement en fonction du découpage qui me semble optimal en fonction des dimensions/proportions différentes des cartes du jeu)\n",
    "- passer des filtres pour rendre les images en noir et blanc (et pas en nuances de gris, attention)\n",
    "- la stocker dans un dictionnaire"
   ]
  },
  {
   "cell_type": "code",
   "execution_count": 1,
   "metadata": {},
   "outputs": [
    {
     "name": "stdout",
     "output_type": "stream",
     "text": [
      "Enregistrement de 10_of_clubs.png\n",
      "Enregistrement de 10_of_diamonds.png\n",
      "Enregistrement de 10_of_hearts.png\n",
      "Enregistrement de 10_of_spades.png\n",
      "Enregistrement de 2_of_clubs.png\n",
      "Enregistrement de 2_of_diamonds.png\n",
      "Enregistrement de 2_of_hearts.png\n",
      "Enregistrement de 2_of_spades.png\n",
      "Enregistrement de 3_of_clubs.png\n",
      "Enregistrement de 3_of_diamonds.png\n",
      "Enregistrement de 3_of_hearts.png\n",
      "Enregistrement de 3_of_spades.png\n",
      "Enregistrement de 4_of_clubs.png\n",
      "Enregistrement de 4_of_diamonds.png\n",
      "Enregistrement de 4_of_hearts.png\n",
      "Enregistrement de 4_of_spades.png\n",
      "Enregistrement de 5_of_clubs.png\n",
      "Enregistrement de 5_of_diamonds.png\n",
      "Enregistrement de 5_of_hearts.png\n",
      "Enregistrement de 5_of_spades.png\n",
      "Enregistrement de 6_of_clubs.png\n",
      "Enregistrement de 6_of_diamonds.png\n",
      "Enregistrement de 6_of_hearts.png\n",
      "Enregistrement de 6_of_spades.png\n",
      "Enregistrement de 7_of_clubs.png\n",
      "Enregistrement de 7_of_diamonds.png\n",
      "Enregistrement de 7_of_hearts.png\n",
      "Enregistrement de 7_of_spades.png\n",
      "Enregistrement de 8_of_clubs.png\n",
      "Enregistrement de 8_of_diamonds.png\n",
      "Enregistrement de 8_of_hearts.png\n",
      "Enregistrement de 8_of_spades.png\n",
      "Enregistrement de 9_of_clubs.png\n",
      "Enregistrement de 9_of_diamonds.png\n",
      "Enregistrement de 9_of_hearts.png\n",
      "Enregistrement de 9_of_spades.png\n",
      "Enregistrement de ace_of_clubs.png\n",
      "Enregistrement de ace_of_diamonds.png\n",
      "Enregistrement de ace_of_hearts.png\n",
      "Enregistrement de ace_of_spades.png\n",
      "Enregistrement de ace_of_spades2.png\n",
      "Enregistrement de black_joker.png\n",
      "Enregistrement de jack_of_clubs.png\n",
      "Enregistrement de jack_of_clubs2.png\n",
      "Enregistrement de jack_of_diamonds.png\n",
      "Enregistrement de jack_of_diamonds2.png\n",
      "Enregistrement de jack_of_hearts.png\n",
      "Enregistrement de jack_of_hearts2.png\n",
      "Enregistrement de jack_of_spades.png\n",
      "Enregistrement de jack_of_spades2.png\n",
      "Enregistrement de king_of_clubs.png\n",
      "Enregistrement de king_of_clubs2.png\n",
      "Enregistrement de king_of_diamonds.png\n",
      "Enregistrement de king_of_diamonds2.png\n",
      "Enregistrement de king_of_hearts.png\n",
      "Enregistrement de king_of_hearts2.png\n",
      "Enregistrement de king_of_spades.png\n",
      "Enregistrement de king_of_spades2.png\n",
      "Enregistrement de queen_of_clubs.png\n",
      "Enregistrement de queen_of_clubs2.png\n",
      "Enregistrement de queen_of_diamonds.png\n",
      "Enregistrement de queen_of_diamonds2.png\n",
      "Enregistrement de queen_of_hearts.png\n",
      "Enregistrement de queen_of_hearts2.png\n",
      "Enregistrement de queen_of_spades.png\n",
      "Enregistrement de queen_of_spades2.png\n",
      "Enregistrement de red_joker.png\n",
      "Initialisation terminée ! 🎉\n"
     ]
    },
    {
     "data": {
      "text/plain": [
       "<matplotlib.image.AxesImage at 0x7f7c59de7d30>"
      ]
     },
     "execution_count": 1,
     "metadata": {},
     "output_type": "execute_result"
    },
    {
     "data": {
      "image/png": "[encoded data removed]",
      "text/plain": [
       "<Figure size 432x288 with 1 Axes>"
      ]
     },
     "metadata": {
      "needs_background": "light"
     },
     "output_type": "display_data"
    }
   ],
   "source": [
    "import os\n",
    "from matplotlib.pyplot import imshow\n",
    "import numpy as np\n",
    "from PIL import Image\n",
    "%matplotlib inline\n",
    "\n",
    "# où sont stockées les photos des cartes de référence\n",
    "directory = r'cartes/'\n",
    "\n",
    "# seuil maximal de considération des pixels comme \"importants\" en fonction de leur luminance\n",
    "# tous les pixels plus sombres seront noirs, les autres blancs\n",
    "SEUIL_LUMINANCE = 200\n",
    "\n",
    "def découpeEtTraite(carte):\n",
    "    carte = carte.crop((0.01 * carte.width, 0.01 * carte.height, 0.18 * carte.width, 0.3 * carte.height))\n",
    "    carte = carte.convert(\"L\")\n",
    "    imgArr = np.asarray(carte)\n",
    "    imgArr = 255.0 * (imgArr > SEUIL_LUMINANCE)\n",
    "    return imgArr\n",
    "\n",
    "# tableau des références de cartes chargées\n",
    "tab_cartes_ref = dict()\n",
    "\n",
    "# on remplit ce tableau avec toutes les cartes\n",
    "def initCartesRef():\n",
    "    for filename in os.listdir(directory):\n",
    "        if filename.endswith(\".png\"):\n",
    "            print('Enregistrement de ' + filename)\n",
    "            carte_ref = Image.open(directory + filename)\n",
    "            tab_cartes_ref[filename] = Image.fromarray(découpeEtTraite(carte_ref))\n",
    "        else:\n",
    "            continue\n",
    "    print(\"Initialisation terminée ! 🎉\")\n",
    "\n",
    "initCartesRef()\n",
    "test = tab_cartes_ref['jack_of_diamonds2.png']\n",
    "\n",
    "# affichage d'un exemple de carte traitée\n",
    "imshow(tab_cartes_ref['jack_of_diamonds2.png'])"
   ]
  },
  {
   "cell_type": "markdown",
   "metadata": {},
   "source": [
    "Ensuite on peut commencer à travailler. On charge l'image (ou **les images**) à traiter `i`, et :\n",
    "- si `i` a une taille X plus grande que sa taille Y (si elle est en format paysage), effectuer une rotation à 90° de `i` dans le sens horaire (sens choisi arbitrairement)\n",
    "- on découpe la même section en haut à gauche de `i` (on pourrait aussi chopper le coin en bas à droite et le tourner à 180° pour avoir 2 images de référence à comparer...?) que l'on réécrit dans `i`\n",
    "- on passe les mêmes filtres pour avoir `i` en noir et blanc\n",
    "- pour chaque image `r` des infos des cartes enregistrées dans notre dossier :\n",
    "    - on crée une nouvelle image `t` qui sera une copie `i`\n",
    "    - on redimensionne `r` aux dimensions de `i` grâce à la fonction `resize()`\n",
    "    - on soustrait les deux images pour en récupérer la différence\n",
    "    - on applique le filtre pour transformer l'image en noir et blanc\n",
    "    - compter le nombre de pixels blancs dans l'image et le stocker comme valeur dans un tableau à la case qui a comme identifiant de l'image `i`. À noter qu'à cette étape, si la \"valeur de différence\" est de zéro, on sait que nous devrions avoir trouvé exactement la bonne carte, on peut donc arrêter la boucle ici. \n",
    "- enfin, si on n'a pas trouvé de correspondance exacte, on pourra trier toutes ces valeurs par ordre croissant pour retrouver la carte qui correspond le plus à celle que l'on cherche à identifier"
   ]
  },
  {
   "cell_type": "code",
   "execution_count": 2,
   "metadata": {},
   "outputs": [
    {
     "data": {
      "text/plain": [
       "{'ace_of_spades.png': 0,\n",
       " 'ace_of_spades2.png': 0,\n",
       " 'ace_of_diamonds.png': 236,\n",
       " '4_of_spades.png': 524,\n",
       " 'jack_of_spades.png': 636,\n",
       " '4_of_diamonds.png': 662,\n",
       " '7_of_spades.png': 673,\n",
       " '5_of_spades.png': 777,\n",
       " '3_of_spades.png': 789,\n",
       " 'jack_of_diamonds.png': 850,\n",
       " '6_of_spades.png': 871,\n",
       " '8_of_spades.png': 883,\n",
       " '2_of_spades.png': 929,\n",
       " '9_of_spades.png': 961,\n",
       " '7_of_diamonds.png': 974,\n",
       " 'king_of_spades.png': 993,\n",
       " 'ace_of_clubs.png': 1045,\n",
       " '3_of_diamonds.png': 1060,\n",
       " '5_of_diamonds.png': 1095,\n",
       " '8_of_diamonds.png': 1159,\n",
       " '2_of_diamonds.png': 1189,\n",
       " '6_of_diamonds.png': 1191,\n",
       " 'king_of_diamonds.png': 1207,\n",
       " '4_of_clubs.png': 1287,\n",
       " '9_of_diamonds.png': 1344,\n",
       " 'jack_of_clubs.png': 1451,\n",
       " '7_of_clubs.png': 1471,\n",
       " 'ace_of_hearts.png': 1478,\n",
       " 'queen_of_spades.png': 1556,\n",
       " '5_of_clubs.png': 1600,\n",
       " '3_of_clubs.png': 1638,\n",
       " 'red_joker.png': 1646,\n",
       " 'black_joker.png': 1690,\n",
       " '8_of_clubs.png': 1705,\n",
       " '6_of_clubs.png': 1719,\n",
       " 'king_of_clubs.png': 1722,\n",
       " '2_of_clubs.png': 1790,\n",
       " 'queen_of_diamonds.png': 1806,\n",
       " '10_of_spades.png': 1816,\n",
       " '10_of_diamonds.png': 1860,\n",
       " '9_of_clubs.png': 1984,\n",
       " '4_of_hearts.png': 2022,\n",
       " 'jack_of_hearts.png': 2125,\n",
       " '7_of_hearts.png': 2134,\n",
       " 'jack_of_spades2.png': 2153,\n",
       " '5_of_hearts.png': 2252,\n",
       " '3_of_hearts.png': 2260,\n",
       " 'queen_of_diamonds2.png': 2271,\n",
       " 'jack_of_diamonds2.png': 2274,\n",
       " 'king_of_diamonds2.png': 2311,\n",
       " '6_of_hearts.png': 2326,\n",
       " '8_of_hearts.png': 2350,\n",
       " 'queen_of_clubs.png': 2379,\n",
       " '2_of_hearts.png': 2389,\n",
       " '9_of_hearts.png': 2414,\n",
       " 'king_of_hearts.png': 2449,\n",
       " 'jack_of_hearts2.png': 2460,\n",
       " '10_of_clubs.png': 2700,\n",
       " 'king_of_spades2.png': 2710,\n",
       " 'king_of_clubs2.png': 2915,\n",
       " 'queen_of_clubs2.png': 2950,\n",
       " 'queen_of_spades2.png': 2973,\n",
       " 'jack_of_clubs2.png': 3008,\n",
       " 'queen_of_hearts.png': 3015,\n",
       " 'king_of_hearts2.png': 3035,\n",
       " '10_of_hearts.png': 3103,\n",
       " 'queen_of_hearts2.png': 3240}"
      ]
     },
     "execution_count": 2,
     "metadata": {},
     "output_type": "execute_result"
    }
   ],
   "source": [
    "%matplotlib inline\n",
    "\n",
    "# fonction de rotation automatique de la carte\n",
    "def autoRotate(img):\n",
    "    # si X > Y\n",
    "    if img.size[0] > img.size[1]:\n",
    "        return img.transpose(Image.ROTATE_90)\n",
    "    else:\n",
    "        return img\n",
    "\n",
    "def IdentifierCarte(cheminCarte):\n",
    "    # entrer le chemin de la carte à identifier, on la charge et la tourne s'il faut\n",
    "    carte_à_identifier = autoRotate(Image.open(cheminCarte))\n",
    "    carte_à_identifier = Image.fromarray(découpeEtTraite(carte_à_identifier))\n",
    "    \n",
    "    # dictionnaire pour compter les erreurs de chaque essai\n",
    "    points_erreur = dict()\n",
    "\n",
    "    # on compare avec toutes les cartes stockées pendant l'initialisation\n",
    "    for carte_ref in tab_cartes_ref.items():\n",
    "        carte_ref_img = carte_ref[1]\n",
    "        carte_ref_img = carte_ref_img.resize(carte_à_identifier.size)\n",
    "\n",
    "        # on crée la matrice des différences, les pixels noirs sont les corrects et les blancs les erreurs\n",
    "        buffer1 = np.asarray(carte_à_identifier)\n",
    "        buffer2 = np.asarray(carte_ref_img)\n",
    "        substract_buffer = buffer1 - buffer2\n",
    "\n",
    "        # on compte le nombre de pixels erronés (blancs)\n",
    "        points_erreur[carte_ref[0]] = np.count_nonzero(substract_buffer == 255)\n",
    "    \n",
    "    # on trie les scores par ordre croissant\n",
    "    points_erreur = dict(sorted(points_erreur.items(), key=lambda item: item[1]))\n",
    "\n",
    "    return points_erreur\n",
    "        \n",
    "IdentifierCarte('cartes/ace_of_spades2.png')"
   ]
  },
  {
   "cell_type": "markdown",
   "metadata": {},
   "source": [
    "Pour pouvoir tester notre hypothèse et son application, je vais implémenter une petite fonction de test qui va itérer sur toutes les cartes du jeu et les tester une par une.\n",
    "Je vais aussi implémenter un moyen rapide de savoir si l'identification est correcte en fonction du nom de fichier ressorti et du nom réel de la carte."
   ]
  },
  {
   "cell_type": "code",
   "execution_count": 3,
   "metadata": {},
   "outputs": [
    {
     "name": "stdout",
     "output_type": "stream",
     "text": [
      "Carte à identifier => 10_of_clubs; Carte trouvée => 10_of_clubs. ✅\n",
      "Carte à identifier => 10_of_diamonds; Carte trouvée => 10_of_diamonds. ✅\n",
      "Carte à identifier => 10_of_hearts; Carte trouvée => 10_of_hearts. ✅\n",
      "Carte à identifier => 10_of_spades; Carte trouvée => 10_of_spades. ✅\n",
      "Carte à identifier => 2_of_clubs; Carte trouvée => 2_of_clubs. ✅\n",
      "Carte à identifier => 2_of_diamonds; Carte trouvée => 2_of_diamonds. ✅\n",
      "Carte à identifier => 2_of_hearts; Carte trouvée => 2_of_hearts. ✅\n",
      "Carte à identifier => 2_of_spades; Carte trouvée => 2_of_spades. ✅\n",
      "Carte à identifier => 3_of_clubs; Carte trouvée => 3_of_clubs. ✅\n",
      "Carte à identifier => 3_of_diamonds; Carte trouvée => 3_of_diamonds. ✅\n",
      "Carte à identifier => 3_of_hearts; Carte trouvée => 3_of_hearts. ✅\n",
      "Carte à identifier => 3_of_spades; Carte trouvée => 3_of_spades. ✅\n",
      "Carte à identifier => 4_of_clubs; Carte trouvée => 4_of_clubs. ✅\n",
      "Carte à identifier => 4_of_diamonds; Carte trouvée => 4_of_diamonds. ✅\n",
      "Carte à identifier => 4_of_hearts; Carte trouvée => 4_of_hearts. ✅\n",
      "Carte à identifier => 4_of_spades; Carte trouvée => 4_of_spades. ✅\n",
      "Carte à identifier => 5_of_clubs; Carte trouvée => 5_of_clubs. ✅\n",
      "Carte à identifier => 5_of_diamonds; Carte trouvée => 5_of_diamonds. ✅\n",
      "Carte à identifier => 5_of_hearts; Carte trouvée => 5_of_hearts. ✅\n",
      "Carte à identifier => 5_of_spades; Carte trouvée => 5_of_spades. ✅\n",
      "Carte à identifier => 6_of_clubs; Carte trouvée => 6_of_clubs. ✅\n",
      "Carte à identifier => 6_of_diamonds; Carte trouvée => 6_of_diamonds. ✅\n",
      "Carte à identifier => 6_of_hearts; Carte trouvée => 6_of_hearts. ✅\n",
      "Carte à identifier => 6_of_spades; Carte trouvée => 6_of_spades. ✅\n",
      "Carte à identifier => 7_of_clubs; Carte trouvée => 7_of_clubs. ✅\n",
      "Carte à identifier => 7_of_diamonds; Carte trouvée => 7_of_diamonds. ✅\n",
      "Carte à identifier => 7_of_hearts; Carte trouvée => 7_of_hearts. ✅\n",
      "Carte à identifier => 7_of_spades; Carte trouvée => 7_of_spades. ✅\n",
      "Carte à identifier => 8_of_clubs; Carte trouvée => 8_of_clubs. ✅\n",
      "Carte à identifier => 8_of_diamonds; Carte trouvée => 8_of_diamonds. ✅\n",
      "Carte à identifier => 8_of_hearts; Carte trouvée => 8_of_hearts. ✅\n",
      "Carte à identifier => 8_of_spades; Carte trouvée => 8_of_spades. ✅\n",
      "Carte à identifier => 9_of_clubs; Carte trouvée => 9_of_clubs. ✅\n",
      "Carte à identifier => 9_of_diamonds; Carte trouvée => 9_of_diamonds. ✅\n",
      "Carte à identifier => 9_of_hearts; Carte trouvée => 9_of_hearts. ✅\n",
      "Carte à identifier => 9_of_spades; Carte trouvée => 9_of_spades. ✅\n",
      "Carte à identifier => ace_of_clubs; Carte trouvée => ace_of_clubs. ✅\n",
      "Carte à identifier => ace_of_diamonds; Carte trouvée => ace_of_diamonds. ✅\n",
      "Carte à identifier => ace_of_hearts; Carte trouvée => ace_of_hearts. ✅\n",
      "Carte à identifier => ace_of_spades; Carte trouvée => ace_of_spades. ✅\n",
      "Carte à identifier => ace_of_spades2; Carte trouvée => ace_of_spades. ✅\n",
      "Carte à identifier => black_joker; Carte trouvée => black_joker. ✅\n",
      "Carte à identifier => jack_of_clubs; Carte trouvée => jack_of_clubs. ✅\n",
      "Carte à identifier => jack_of_clubs2; Carte trouvée => jack_of_clubs2. ✅\n",
      "Carte à identifier => jack_of_diamonds; Carte trouvée => jack_of_diamonds. ✅\n",
      "Carte à identifier => jack_of_diamonds2; Carte trouvée => jack_of_diamonds2. ✅\n",
      "Carte à identifier => jack_of_hearts; Carte trouvée => jack_of_hearts. ✅\n",
      "Carte à identifier => jack_of_hearts2; Carte trouvée => jack_of_hearts2. ✅\n",
      "Carte à identifier => jack_of_spades; Carte trouvée => jack_of_spades. ✅\n",
      "Carte à identifier => jack_of_spades2; Carte trouvée => jack_of_spades2. ✅\n",
      "Carte à identifier => king_of_clubs; Carte trouvée => king_of_clubs. ✅\n",
      "Carte à identifier => king_of_clubs2; Carte trouvée => king_of_clubs2. ✅\n",
      "Carte à identifier => king_of_diamonds; Carte trouvée => king_of_diamonds. ✅\n",
      "Carte à identifier => king_of_diamonds2; Carte trouvée => king_of_diamonds2. ✅\n",
      "Carte à identifier => king_of_hearts; Carte trouvée => king_of_hearts. ✅\n",
      "Carte à identifier => king_of_hearts2; Carte trouvée => king_of_hearts2. ✅\n",
      "Carte à identifier => king_of_spades; Carte trouvée => king_of_spades. ✅\n",
      "Carte à identifier => king_of_spades2; Carte trouvée => king_of_spades2. ✅\n",
      "Carte à identifier => queen_of_clubs; Carte trouvée => queen_of_clubs. ✅\n",
      "Carte à identifier => queen_of_clubs2; Carte trouvée => queen_of_clubs2. ✅\n",
      "Carte à identifier => queen_of_diamonds; Carte trouvée => queen_of_diamonds. ✅\n",
      "Carte à identifier => queen_of_diamonds2; Carte trouvée => queen_of_diamonds2. ✅\n",
      "Carte à identifier => queen_of_hearts; Carte trouvée => queen_of_hearts. ✅\n",
      "Carte à identifier => queen_of_hearts2; Carte trouvée => queen_of_hearts2. ✅\n",
      "Carte à identifier => queen_of_spades; Carte trouvée => queen_of_spades. ✅\n",
      "Carte à identifier => queen_of_spades2; Carte trouvée => queen_of_spades2. ✅\n",
      "Carte à identifier => red_joker; Carte trouvée => red_joker. ✅\n",
      "100.0% de précision (score de 67, 67 cartes testées.)\n"
     ]
    }
   ],
   "source": [
    "def compareNames(name_of_card_to_id, name_of_card_to_compare_with):\n",
    "    name_of_card_to_id = name_of_card_to_id.split('.')[0]\n",
    "    name_of_card_to_compare_with = name_of_card_to_compare_with.split('.')[0]\n",
    "    response = (name_of_card_to_id in name_of_card_to_compare_with) | (name_of_card_to_compare_with in name_of_card_to_id)\n",
    "    print(\"Carte à identifier => \" + name_of_card_to_id + \"; Carte trouvée => \" + name_of_card_to_compare_with + \". \" + (\"✅\" if response else \"❌\"))\n",
    "    return response\n",
    "\n",
    "n = 0\n",
    "total_score = 0\n",
    "for filename in os.listdir(directory):\n",
    "    if filename.endswith(\".png\"):\n",
    "        n += 1\n",
    "        classification = IdentifierCarte(directory + filename)\n",
    "        if compareNames(filename, list(classification.keys())[0]):\n",
    "            total_score += 1\n",
    "    else:\n",
    "        continue\n",
    "print(str((total_score/n)*100)+\"% de précision (score de \" + str(total_score) + \", \" + str(n) + \" cartes testées.)\")"
   ]
  },
  {
   "cell_type": "markdown",
   "metadata": {},
   "source": [
    "## Hypothèse 3\n",
    "\n",
    "On reprendrait l'hypothèse 2, mais avec quelques étapes en plus pour assurer une meilleure reconnaissance au cas où les cartes varient de celles du lot de comparaison.\n",
    "\n",
    "Lors de l'initialisation où on extrait des données de toutes les cartes du lot, on pourrait aussi découper un rectangle autour du enseigne et du valeur pour découper sur cette zone là plutôt que celle prédéfinie avec les dimensions de la carte... Peut-être à explorer plus tard...?"
   ]
  }
 ],
 "metadata": {
  "interpreter": {
   "hash": "3216c29f5b0d80f10f1729e26347de763623cab3bcd8466b49c9609ad4173381"
  },
  "kernelspec": {
   "display_name": "Python 3 (ipykernel)",
   "language": "python",
   "name": "python3"
  },
  "language_info": {
   "codemirror_mode": {
    "name": "ipython",
    "version": 3
   },
   "file_extension": ".py",
   "mimetype": "text/x-python",
   "name": "python",
   "nbconvert_exporter": "python",
   "pygments_lexer": "ipython3",
   "version": "3.9.7"
  }
 },
 "nbformat": 4,
 "nbformat_minor": 4
}
